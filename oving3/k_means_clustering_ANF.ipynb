{
 "cells": [
  {
   "cell_type": "markdown",
   "metadata": {},
   "source": [
    "# k-Means Clustering\n",
    "\n",
    "In this notebook, you will implement the k-means clustering algorithm.\n",
    "\n",
    "## Packages\n",
    "\n",
    "Following packages is all you need. Do not import any additional packages!\n",
    "\n",
    "In case you are not familiar with [Numpy](http://www.numpy.org/) library, it provides support for large multi-dimensional arrays and matrices, along with functions to operate on these. [Matplotlib](https://matplotlib.org/) is a plotting library."
   ]
  },
  {
   "cell_type": "code",
   "execution_count": 1,
   "metadata": {},
   "outputs": [],
   "source": [
    "import numpy as np\n",
    "%matplotlib inline\n",
    "from matplotlib import pyplot as plt"
   ]
  },
  {
   "cell_type": "markdown",
   "metadata": {},
   "source": [
    "## Function\n",
    "\n",
    "A function for plotting that we are going to use later on."
   ]
  },
  {
   "cell_type": "code",
   "execution_count": 2,
   "metadata": {},
   "outputs": [],
   "source": [
    "def plot_clusters(data, centroids):\n",
    "    \"\"\"\n",
    "    Shows a scatter plot with the data points clustered according to the centroids.\n",
    "    \"\"\"\n",
    "    # Assigning the data points to clusters/centroids.\n",
    "    clusters = [[] for _ in range(centroids.shape[0])]\n",
    "    for i in range(data.shape[0]):\n",
    "        distances = np.linalg.norm(data[i] - centroids, axis=1)\n",
    "        clusters[np.argmin(distances)].append(data[i])\n",
    "\n",
    "    # Plotting clusters and centroids.\n",
    "    fig, ax = plt.subplots()\n",
    "    for c in range(centroids.shape[0]):\n",
    "        if len(clusters[c]) > 0:\n",
    "            cluster = np.array(clusters[c])\n",
    "            ax.scatter(cluster[:, 0], cluster[:, 1], s=7)\n",
    "    ax.scatter(centroids[:, 0], centroids[:, 1], marker='x', s=200, c='red')"
   ]
  },
  {
   "cell_type": "markdown",
   "metadata": {},
   "source": [
    "## Data\n",
    "\n",
    "Let us generate a dataset you are going to play with. We will stay in the Euclidean space because it is easy to plot."
   ]
  },
  {
   "cell_type": "code",
   "execution_count": 3,
   "metadata": {
    "scrolled": false
   },
   "outputs": [
    {
     "name": "stdout",
     "output_type": "stream",
     "text": [
      "[[27.64052346  3.46736574]\n",
      " [14.00157208 18.2906534 ]\n",
      " [19.78737984  9.40917977]\n",
      " ...\n",
      " [80.85621773 20.91725127]\n",
      " [80.19454353 17.64628751]\n",
      " [83.13282125 21.36398195]]\n"
     ]
    }
   ],
   "source": [
    "# We would like to have some control over the randomly generated data.\n",
    "# This is just for development purposes.\n",
    "np.random.seed(0)\n",
    "\n",
    "# Euclidean space.\n",
    "DIMENSIONS = 2\n",
    "\n",
    "# We will generate clusters.\n",
    "CLUSTERS = [\n",
    "    {\n",
    "        'mean': (10, 10),\n",
    "        'std': (10, 5),\n",
    "        'size': 300\n",
    "    },\n",
    "    {\n",
    "        'mean': (10, 85),\n",
    "        'std': (10, 3),\n",
    "        'size': 100\n",
    "    },\n",
    "    {\n",
    "        'mean': (50, 50),\n",
    "        'std': (6, 6),\n",
    "        'size': 200\n",
    "    },\n",
    "    {\n",
    "        'mean': (80, 75),\n",
    "        'std': (5, 10),\n",
    "        'size': 200\n",
    "    },\n",
    "    {\n",
    "        'mean': (80, 20),\n",
    "        'std': (5, 5),\n",
    "        'size': 100\n",
    "    }\n",
    "]\n",
    "\n",
    "# Initializing the dataset with zeros.\n",
    "synthetic_data = np.zeros((np.sum([c['size'] for c in CLUSTERS]), DIMENSIONS))\n",
    "\n",
    "# Generating the clusters.\n",
    "start = 0\n",
    "for c in CLUSTERS:\n",
    "    for d in range(DIMENSIONS):\n",
    "        synthetic_data[start:start + c['size'], d] = np.random.normal(c['mean'][d], c['std'][d], (c['size']))\n",
    "    start += c['size']\n",
    "print(synthetic_data)"
   ]
  },
  {
   "cell_type": "code",
   "execution_count": 4,
   "metadata": {},
   "outputs": [
    {
     "name": "stdout",
     "output_type": "stream",
     "text": [
      "shape (size, dimensions) = (900, 2)\n"
     ]
    }
   ],
   "source": [
    "print('shape (size, dimensions) =', synthetic_data.shape)"
   ]
  },
  {
   "cell_type": "markdown",
   "metadata": {},
   "source": [
    "And this is how our data look like when plotted."
   ]
  },
  {
   "cell_type": "code",
   "execution_count": 5,
   "metadata": {},
   "outputs": [
    {
     "data": {
      "text/plain": [
       "<matplotlib.collections.PathCollection at 0x1fbe7d9b0b8>"
      ]
     },
     "execution_count": 5,
     "metadata": {},
     "output_type": "execute_result"
    },
    {
     "data": {
      "image/png": "[encoded data removed]",
      "text/plain": [
       "<Figure size 432x288 with 1 Axes>"
      ]
     },
     "metadata": {
      "needs_background": "light"
     },
     "output_type": "display_data"
    }
   ],
   "source": [
    "plt.figure()\n",
    "plt.scatter(synthetic_data[:, 0], synthetic_data[:, 1], s=3)"
   ]
  },
  {
   "cell_type": "markdown",
   "metadata": {},
   "source": [
    "## Implementation\n",
    "\n",
    "A human can with an ease find five distinct clusters just by watching the plot. A computer, however, needs to be told how to find the clusters.\n",
    "\n",
    "**Exercise:**\n",
    "\n",
    "Implement the k-means clustering algorithm.\n",
    "\n",
    "* Use the Euclidean (L<sub>2</sub>) distance.\n",
    "* It is sufficient to use the basic Python constructs in your implementation, even though we heavily rely on Numpy throughout this assignment."
   ]
  },
  {
   "cell_type": "code",
   "execution_count": 6,
   "metadata": {},
   "outputs": [],
   "source": [
    "#takes a cluster and finds a new centroid for the given cluster\n",
    "def recalculate_centroid(clusterdata):\n",
    "    x_values = map(lambda coord:coord[0],clusterdata)\n",
    "    x_sum = sum(list(x_values))\n",
    "    new_x = x_sum / len(clusterdata)\n",
    "    y_values = map(lambda coord:coord[1],clusterdata)\n",
    "    y_sum = sum(list(y_values))\n",
    "    new_y = y_sum / len(clusterdata)\n",
    "    return [new_x,new_y]\n",
    "\n",
    "\n",
    "# takes a datapoint and assigns it to the the cluster corresponding to the closest centroid\n",
    "def add_to_closest_cluster(datapoint, centroids, clusters):\n",
    "    index, mindistance = -1, float('inf')\n",
    "    # iterate all clusters, save index if datapoint is closer to centroid for given cluster\n",
    "    for i in range(len(clusters.keys())):\n",
    "        distance = np.linalg.norm(datapoint-centroids[i])\n",
    "        if(distance < mindistance):\n",
    "            index, mindistance = i, distance\n",
    "    # add the datapoint to the cluster where the distance was the shortest\n",
    "    clusters[str(index)].append(datapoint)\n",
    "\n",
    "# main algorithm, \n",
    "def calculate_kmeans(data, prev_centroids, centroids):\n",
    "    if(np.array_equal(prev_centroids, centroids)):\n",
    "        return centroids\n",
    "    # datastructure that will contain new clusters\n",
    "    clusters = {}\n",
    "    for i in range(len(centroids)):\n",
    "        clusters[str(i)] = []\n",
    "    # iterate all datapoints\n",
    "    for j in range(len(data)):\n",
    "        # will update our cluster directory to subarrays centered around our given centroids\n",
    "        add_to_closest_cluster(data[j], centroids, clusters)\n",
    "    new_centroids = []\n",
    "    # produce a neste list of new centroids, calculated by the clusters we generated above\n",
    "    for k in range(len(centroids)):\n",
    "        new_centroid = recalculate_centroid(clusters[str(k)])\n",
    "        new_centroids.append(new_centroid)\n",
    "    return calculate_kmeans(data,centroids,np.array(new_centroids))\n",
    "\n",
    "\n",
    "def kmeans(data, centroids):\n",
    "    \"\"\"\n",
    "    Function implementing the k-means clustering.\n",
    "    \n",
    "    :param data\n",
    "        data\n",
    "    :param centroids\n",
    "        initial centroids\n",
    "    :return\n",
    "        final centroids\n",
    "    \"\"\"\n",
    "    ### START CODE HERE ###    \n",
    "    zeros = np.zeros_like(centroids)\n",
    "    new_centroids = calculate_kmeans(data, zeros, centroids)\n",
    "    ### END CODE HERE ###\n",
    "    return new_centroids"
   ]
  },
  {
   "cell_type": "markdown",
   "metadata": {},
   "source": [
    "We have prepared for you a small piece of code, so that you can test that the function works according the expectations."
   ]
  },
  {
   "cell_type": "code",
   "execution_count": 7,
   "metadata": {},
   "outputs": [
    {
     "name": "stdout",
     "output_type": "stream",
     "text": [
      "c0 = [10.60838779 23.74997384]\n",
      "c1 = [49.02859109 49.15205809]\n",
      "c2 = [76.15408829 21.7746025 ]\n"
     ]
    },
    {
     "data": {
      "image/png": "[encoded data removed]",
      "text/plain": [
       "<Figure size 432x288 with 1 Axes>"
      ]
     },
     "metadata": {
      "needs_background": "light"
     },
     "output_type": "display_data"
    }
   ],
   "source": [
    "test_data = np.array([\n",
    "    [66.24345364, 57.31053969],\n",
    "    [43.88243586, 39.69929645],\n",
    "    [44.71828248, 48.38791398],\n",
    "    [39.27031378, 48.07972823],\n",
    "    [58.65407629, 55.66884721],\n",
    "    [26.98461303, 44.50054366],\n",
    "    [67.44811764, 49.13785896],\n",
    "    [42.38793099, 45.61070791],\n",
    "    [53.19039096, 50.21106873],\n",
    "    [47.50629625, 52.91407607],\n",
    "    [2.29566576, 20.15837474],\n",
    "    [18.01306597, 22.22272531],\n",
    "    [16.31113504, 20.1897911 ],\n",
    "    [13.51746037, 19.08356051],\n",
    "    [16.30599164, 20.30127708],\n",
    "    [5.21390499, 24.91134781],\n",
    "    [9.13976842, 17.17882756],\n",
    "    [3.44961396, 26.64090988],\n",
    "    [8.12478344, 36.61861524],\n",
    "    [13.71248827, 30.19430912],\n",
    "    [74.04082224, 23.0017032 ],\n",
    "    [70.56185518, 16.47750154],\n",
    "    [71.26420853, 8.57481802],\n",
    "    [83.46227301, 16.50657278],\n",
    "    [75.25403877, 17.91105767],\n",
    "    [71.81502177, 25.86623191],\n",
    "    [75.95457742, 28.38983414],\n",
    "    [85.50127568, 29.31102081],\n",
    "    [75.60079476, 22.85587325],\n",
    "    [78.08601555, 28.85141164]\n",
    "])\n",
    "test_centroids = np.array([\n",
    "    [25, 50],\n",
    "    [50, 50],\n",
    "    [75, 50]\n",
    "])\n",
    "\n",
    "test_centroids = kmeans(test_data, test_centroids)\n",
    "\n",
    "print('c0 =', test_centroids[0])\n",
    "print('c1 =', test_centroids[1])\n",
    "print('c2 =', test_centroids[2])\n",
    "plot_clusters(test_data, test_centroids)"
   ]
  },
  {
   "cell_type": "markdown",
   "metadata": {},
   "source": [
    "We expect the output to be similar to following.\n",
    "\n",
    "```\n",
    "c0 = [ 9 25]\n",
    "c1 = [50 50]\n",
    "c2 = [75 20]\n",
    "```\n",
    "\n",
    "If it is not the case, review your implementation, debug your algorithm, try it on paper, ..."
   ]
  },
  {
   "cell_type": "markdown",
   "metadata": {},
   "source": [
    "## Clustering\n",
    "\n",
    "Ready to run your implementation of k-means clustering on the dataset? Let's do it...\n",
    "\n",
    "First, we need to initialize the centroids. We will go for a random initialization eventhough there are some disadvantages of doing so (see the Introduction to Data Mining from Tan et al.)."
   ]
  },
  {
   "cell_type": "code",
   "execution_count": 8,
   "metadata": {},
   "outputs": [
    {
     "name": "stdout",
     "output_type": "stream",
     "text": [
      "c0 = [32.  3.]\n",
      "c1 = [75. 85.]\n",
      "c2 = [65. 77.]\n",
      "c3 = [16. 63.]\n",
      "c4 = [-15.   2.]\n"
     ]
    },
    {
     "data": {
      "image/png": "[encoded data removed]",
      "text/plain": [
       "<Figure size 432x288 with 1 Axes>"
      ]
     },
     "metadata": {
      "needs_background": "light"
     },
     "output_type": "display_data"
    }
   ],
   "source": [
    "# Number of clusters.\n",
    "K = 5\n",
    "\n",
    "# Boundaries of our data.\n",
    "x_min = np.min(synthetic_data[:, 0])\n",
    "x_max = np.max(synthetic_data[:, 0])\n",
    "y_min = np.min(synthetic_data[:, 1])\n",
    "y_max = np.max(synthetic_data[:, 1])\n",
    "\n",
    "# Generating random centroids within the data boundaries.\n",
    "centroids = np.zeros((K, synthetic_data.shape[1]))\n",
    "centroids[:, 0] = np.random.randint(x_min, x_max, size=K)\n",
    "centroids[:, 1] = np.random.randint(y_min, y_max, size=K)\n",
    "\n",
    "for i in range(len(centroids)):\n",
    "    print('c%d =' % i, centroids[i])\n",
    "plot_clusters(synthetic_data, centroids)"
   ]
  },
  {
   "cell_type": "markdown",
   "metadata": {},
   "source": [
    "Finally, we run the `kmeans()` function you have implemented."
   ]
  },
  {
   "cell_type": "code",
   "execution_count": 9,
   "metadata": {},
   "outputs": [
    {
     "name": "stdout",
     "output_type": "stream",
     "text": [
      "c0 = [80.35860123 19.92039624]\n",
      "c1 = [80.01412361 75.34768277]\n",
      "c2 = [50.52455759 50.55856347]\n",
      "c3 = [ 8.6505037  84.62920215]\n",
      "c4 = [10.27529575  9.31284683]\n"
     ]
    },
    {
     "data": {
      "image/png": "[encoded data removed]",
      "text/plain": [
       "<Figure size 432x288 with 1 Axes>"
      ]
     },
     "metadata": {
      "needs_background": "light"
     },
     "output_type": "display_data"
    }
   ],
   "source": [
    "centroids = kmeans(synthetic_data, centroids)\n",
    "\n",
    "# plt.scatter(data[:, 0], data[:, 1], s=3)\n",
    "# plt.scatter(centroids[:, 0], centroids[:, 1], marker='x', s=200, c='red')\n",
    "\n",
    "for i in range(len(centroids)):\n",
    "    print('c%d =' % i, centroids[i])\n",
    "plot_clusters(synthetic_data, centroids)"
   ]
  },
  {
   "cell_type": "markdown",
   "metadata": {},
   "source": [
    "Congratulations! At this point, hopefully, you have found all five distinct clusters with the centroids aligned in their centers.\n",
    "\n",
    "## Evaluation of Clustering\n",
    "\n",
    "Silhouette Coefficient is an example of a measure for validation of the cluster quality.\n",
    "\n",
    "**Exercise:**\n",
    "\n",
    "Implement a function calculating the mean Silhouette Coefficient of all samples.\n",
    "\n",
    "* Use the Euclidean (L<sub>2</sub>) distance.\n",
    "* It is sufficient to use the basic Python constructs in your implementation, even though we heavily rely on Numpy throughout this assignment."
   ]
  },
  {
   "cell_type": "code",
   "execution_count": 10,
   "metadata": {},
   "outputs": [],
   "source": [
    "# takes in datapoints for one cluster and returns the average distance \n",
    "# from one datapoint to each other datapoint in the cluster\n",
    "def avg_internal_cluster_distance(int_datapoint, cluster):\n",
    "    total_distance = 0\n",
    "    # even though we have a duplicate comparison within the cluster\n",
    "    # it is fine because the distance should be zero\n",
    "    for i in range(len(cluster)):\n",
    "        total_distance += np.linalg.norm(int_datapoint-cluster[i])\n",
    "    # we did \"i\" iterations, but we intend to make \"i-1\" comparisons\n",
    "    comparisons = len(cluster)-1\n",
    "    return total_distance / comparisons\n",
    "\n",
    "# takes in the datapoint we want to check and returns the average distance to another, given, cluster \n",
    "def avg_external_cluster_distance(ext_datapoint, cluster):\n",
    "    total_distance = 0\n",
    "    for i in range(len(cluster)):\n",
    "        total_distance += np.linalg.norm(ext_datapoint-cluster[i])\n",
    "    return total_distance / len(cluster)\n",
    "\n",
    "# takes in the datapoint we want to check and returns the minimum avg. distance to another cluster\n",
    "def min_avg_ext_clus_dist(datapoint, clusterindex, clusters):\n",
    "    min_distance = float('inf')\n",
    "    for i in range(len(clusters.items())):\n",
    "        # we don't want to check distances within the cluster the datapoint is contained in\n",
    "        if(i==clusterindex):\n",
    "            None\n",
    "        else:\n",
    "            distance = avg_external_cluster_distance(datapoint, clusters[str(i)])\n",
    "            if(distance < min_distance):\n",
    "                min_distance = distance\n",
    "    return min_distance\n",
    "            \n",
    "\n",
    "def silhouette_score(data, centroids):\n",
    "    \"\"\"\n",
    "    Function implementing the k-means clustering.\n",
    "    \n",
    "    :param data\n",
    "        data\n",
    "    :param centroids\n",
    "        centroids\n",
    "    :return\n",
    "        mean Silhouette Coefficient of all samples\n",
    "    \"\"\"\n",
    "    ### START CODE HERE ### \n",
    "    \n",
    "    # datastructure that will contain new clusters\n",
    "    clusters = {}\n",
    "    for i in range(len(centroids)):\n",
    "        clusters[str(i)] = []\n",
    "    # iterate all datapoints\n",
    "    for j in range(len(data)):\n",
    "        # will update our cluster directory to subarrays centered around our given centroids\n",
    "        add_to_closest_cluster(data[j], centroids, clusters)\n",
    "        # calculate avg. distance from centroid to datapoints\n",
    "        \n",
    "    # we will put the silhouett coeffisient for every datapoint in this list\n",
    "    # then later take the average to get the mean coeffisient of all points\n",
    "    s_coeffs = []\n",
    "    # iterates through all clusters\n",
    "    for k in range(len(centroids)):\n",
    "        # iterates through all datapoints in a cluster\n",
    "        for l in range(len(clusters[str(k)])):\n",
    "            a = avg_internal_cluster_distance(clusters[str(k)][l],clusters[str(k)])\n",
    "            b = min_avg_ext_clus_dist(clusters[str(k)][l], k, clusters)\n",
    "            s_coeff = (b-a)/max(a,b)\n",
    "            s_coeffs.append(s_coeff)\n",
    "    # calculating the mean coeffisient of all points\n",
    "    score = sum(s_coeffs)/len(s_coeffs)\n",
    "    ### END CODE HERE ### \n",
    "    return score"
   ]
  },
  {
   "cell_type": "markdown",
   "metadata": {},
   "source": [
    "First, let's see if the algorithm executes on the test data."
   ]
  },
  {
   "cell_type": "code",
   "execution_count": 11,
   "metadata": {},
   "outputs": [
    {
     "data": {
      "text/plain": [
       "0.6752214860168544"
      ]
     },
     "execution_count": 11,
     "metadata": {},
     "output_type": "execute_result"
    }
   ],
   "source": [
    "silhouette_score(test_data, test_centroids)"
   ]
  },
  {
   "cell_type": "markdown",
   "metadata": {},
   "source": [
    "We expect the output to be around `0.675`.\n",
    "\n",
    "Finally, let's cluster again our synthetic data and calculate the Silhouette Coefficient."
   ]
  },
  {
   "cell_type": "code",
   "execution_count": 12,
   "metadata": {},
   "outputs": [
    {
     "name": "stdout",
     "output_type": "stream",
     "text": [
      "silhouette_coefficient = 0.5111831867117133\n"
     ]
    },
    {
     "data": {
      "image/png": "[encoded data removed]",
      "text/plain": [
       "<Figure size 432x288 with 1 Axes>"
      ]
     },
     "metadata": {
      "needs_background": "light"
     },
     "output_type": "display_data"
    }
   ],
   "source": [
    "centroids = np.zeros((K, synthetic_data.shape[1]))\n",
    "centroids[:, 0] = np.random.randint(x_min, x_max, size=K)\n",
    "centroids[:, 1] = np.random.randint(y_min, y_max, size=K)\n",
    "\n",
    "centroids = kmeans(synthetic_data, centroids)\n",
    "silhouette_coefficient = silhouette_score(synthetic_data, centroids)\n",
    "\n",
    "print('silhouette_coefficient =', silhouette_coefficient)\n",
    "plot_clusters(synthetic_data, centroids)"
   ]
  },
  {
   "cell_type": "markdown",
   "metadata": {},
   "source": [
    "**Exercise:**\n",
    "\n",
    "* Run the clustering multiple times and pay attention to the results.\n",
    "* In the *Discussion* below, describe your observations and discuss reasons for the possibly strong or weak performance of the algorithm. If you identify any weaknesses, suggest a possible solution.\n",
    "\n",
    "## Discussion\n",
    "\n",
    "<span style=\"color: red;\">*Place for your discussion.*</span>"
   ]
  },
  {
   "cell_type": "markdown",
   "metadata": {},
   "source": [
    "discussion:\n",
    "\n",
    "Jeg opplever at algoritmen er heldig og har gode centroider i utgangspunktet så greier vi å finne alle klyngene og ender med en silhuett-koeffisient på ca. 0,733. Jeg opplever at algoritmen oftere ikke finner de \"riktige\" klyngene. I de gangene vi har sub-optimale klynginger liker s-koeffisienten rundt 0,50 - 0,65. Det er et åpentbart problem at vi må være \"heldige\" men våre initial noder for å finne de \"riktige\" klyngene. Bruk av K-Means++ eller Bisecting K-Means vil hjelpe på dette problemet."
   ]
  },
  {
   "cell_type": "markdown",
   "metadata": {},
   "source": [
    "2] b) You are given a two-dimensional dataset shown in Table 1. Perform HAC (for both MINlink\n",
    "and MAX-link) and present the results in the form of dendrogram. Use the Euclidean\n",
    "distance. Describe thoroughly the process and the outcome of each step."
   ]
  },
  {
   "cell_type": "code",
   "execution_count": 13,
   "metadata": {},
   "outputs": [
    {
     "name": "stdout",
     "output_type": "stream",
     "text": [
      "distance matrix:\n",
      "[[        inf  5.09901951  4.12310563  5.          7.61577311 10.29563014]\n",
      " [ 5.09901951         inf  1.          6.40312424  6.32455532  8.        ]\n",
      " [ 4.12310563  1.                 inf  5.65685425  6.08276253  8.06225775]\n",
      " [ 5.          6.40312424  5.65685425         inf  3.60555128  6.40312424]\n",
      " [ 7.61577311  6.32455532  6.08276253  3.60555128         inf  2.82842712]\n",
      " [10.29563014  8.          8.06225775  6.40312424  2.82842712         inf]]\n",
      "\n"
     ]
    }
   ],
   "source": [
    "# Defining the points that we are going to work with\n",
    "A = [4,3]\n",
    "B = [5,8]\n",
    "C = [5,7]\n",
    "D = [9,3]\n",
    "E = [11,6]\n",
    "F = [13,8]\n",
    "\n",
    "def first_distance_matrix(dataset):\n",
    "    distance_matrix = []\n",
    "    for i in range(len(dataset)):\n",
    "        row = []\n",
    "        point = np.array(dataset[i])\n",
    "        for j in range(len(dataset)):\n",
    "            if(i==j):\n",
    "                row.append(float('inf'))\n",
    "            else:\n",
    "                comp_point = np.array(dataset[j])\n",
    "                distance = np.linalg.norm(point-comp_point)\n",
    "                row.append(distance)\n",
    "        distance_matrix.append(row)\n",
    "    return distance_matrix\n",
    "\n",
    "# List of lists containing all points (clusters)\n",
    "first_clusters = [A,B,C,D,E,F]\n",
    "dm1 = first_distance_matrix(first_clusters)\n",
    "print(\"distance matrix:\")\n",
    "print(np.matrix(dm1))\n",
    "print()\n",
    "# we see from the matrix that cluster B and C is four our first step is closest with an euclidean distance of 1.0"
   ]
  },
  {
   "cell_type": "code",
   "execution_count": 14,
   "metadata": {},
   "outputs": [
    {
     "data": {
      "image/png": "[encoded data removed]",
      "text/plain": [
       "<Figure size 432x288 with 1 Axes>"
      ]
     },
     "metadata": {
      "needs_background": "light"
     },
     "output_type": "display_data"
    },
    {
     "data": {
      "image/png": "[encoded data removed]",
      "text/plain": [
       "<Figure size 432x288 with 1 Axes>"
      ]
     },
     "metadata": {
      "needs_background": "light"
     },
     "output_type": "display_data"
    }
   ],
   "source": [
    "from scipy.cluster import hierarchy\n",
    "\n",
    "A = [4,3]\n",
    "B = [5,8]\n",
    "C = [5,7]\n",
    "D = [9,3]\n",
    "E = [11,6]\n",
    "F = [13,8]\n",
    "\n",
    "points = [A, B, C, D, E, F]\n",
    "\n",
    "distances = np.asarray(points)\n",
    "Z = hierarchy.linkage(distances, 'single')\n",
    "plt.figure()\n",
    "plt.title(\"MIN-link\")\n",
    "dn = hierarchy.dendrogram(Z, labels=[\"A\", \"B\", \"C\", \"D\", \"E\", \"F\"])\n",
    "plt.savefig('Min-Link')\n",
    "plt.show()\n",
    "\n",
    "\n",
    "distances = np.asarray(points)\n",
    "Z = hierarchy.linkage(distances, 'complete')\n",
    "plt.figure()\n",
    "plt.title(\"MAX-link\")\n",
    "dn = hierarchy.dendrogram(Z, labels=[\"A\", \"B\", \"C\", \"D\", \"E\", \"F\"])\n",
    "plt.savefig('Max-Link')\n",
    "plt.show()"
   ]
  },
  {
   "cell_type": "code",
   "execution_count": 25,
   "metadata": {},
   "outputs": [
    {
     "name": "stdout",
     "output_type": "stream",
     "text": [
      "[3, 2, 3, 2, 4, 3, 3, 2, 3, 1, 2, 1, 3, 2, 1, 1, 3, 1]\n",
      "\n",
      "['C', 0, 'C', 1, 'C', 'C', 'C', 0, 'C', 0, 1, 0, 'C', 1, 0, 0, 'C', 0]\n",
      "\n",
      "distance matrix for core points and border points:\n",
      "[[ 0.         12.08304597  2.         10.77032961 13.         11.40175425\n",
      "   2.          8.94427191 13.60147051  3.16227766 11.70469991]\n",
      " [12.08304597  0.         11.40175425  1.41421356  9.21954446  2.\n",
      "  10.29563014  3.16227766 10.63014581  8.94427191  9.21954446]\n",
      " [ 2.         11.40175425  0.         10.19803903 11.18033989 11.04536102\n",
      "   2.82842712  8.24621125 11.70469991  3.16227766  9.8488578 ]\n",
      " [10.77032961  1.41421356 10.19803903  0.          9.43398113  1.41421356\n",
      "   8.94427191  2.         10.81665383  7.61577311  9.21954446]\n",
      " [13.          9.21954446 11.18033989  9.43398113  0.         10.81665383\n",
      "  12.36931688  8.54400375  1.41421356 11.18033989  1.41421356]\n",
      " [11.40175425  2.         11.04536102  1.41421356 10.81665383  0.\n",
      "   9.48683298  3.16227766 12.20655562  8.24621125 10.63014581]\n",
      " [ 2.         10.29563014  2.82842712  8.94427191 12.36931688  9.48683298\n",
      "   0.          7.21110255 13.15294644  1.41421356 11.18033989]\n",
      " [ 8.94427191  3.16227766  8.24621125  2.          8.54400375  3.16227766\n",
      "   7.21110255  0.          9.8488578   5.83095189  8.06225775]\n",
      " [13.60147051 10.63014581 11.70469991 10.81665383  1.41421356 12.20655562\n",
      "  13.15294644  9.8488578   0.         12.04159458  2.        ]\n",
      " [ 3.16227766  8.94427191  3.16227766  7.61577311 11.18033989  8.24621125\n",
      "   1.41421356  5.83095189 12.04159458  0.         10.04987562]\n",
      " [11.70469991  9.21954446  9.8488578   9.21954446  1.41421356 10.63014581\n",
      "  11.18033989  8.06225775  2.         10.04987562  0.        ]]\n",
      "\n"
     ]
    }
   ],
   "source": [
    "# Datapoints\n",
    "P_1 = [1,1]\n",
    "P_2 = [14,8]\n",
    "P_3 = [6,12]\n",
    "P_4 = [3,1]\n",
    "P_5 = [5,11]\n",
    "P_6 = [13,6]\n",
    "P_7 = [4,12]\n",
    "P_8 = [12,8]\n",
    "P_9 = [1,3]\n",
    "P_10 = [8,1]\n",
    "P_11 = [5,9]\n",
    "P_12 = [10,12]\n",
    "P_13 = [14,5]\n",
    "P_14 = [2,4]\n",
    "P_15 = [8,6]\n",
    "P_16 = [4,3]\n",
    "P_17 = [12,5]\n",
    "P_18 = [14,14]\n",
    "\n",
    "def distance_matrix(dataset):\n",
    "    distance_matrix = []\n",
    "    for i in range(len(dataset)):\n",
    "        row = []\n",
    "        point = np.array(dataset[i])\n",
    "        for j in range(len(dataset)):\n",
    "            comp_point = np.array(dataset[j])\n",
    "            distance = np.linalg.norm(point-comp_point)\n",
    "            row.append(distance)\n",
    "        distance_matrix.append(row)\n",
    "    return distance_matrix\n",
    "\n",
    "def identify_border_points(prox_list, dist_matrix, eps):\n",
    "    border_list = []\n",
    "    for i in range(len(dist_matrix)):\n",
    "        # if we know the point is a core point we don't need to check\n",
    "        if(prox_list[i]>=3):\n",
    "            border_list.append('C')\n",
    "        else:\n",
    "            counter = 0\n",
    "            for j in range(len(dist_matrix)):\n",
    "                if(prox_list[j]<3):\n",
    "                    None\n",
    "                else:\n",
    "                    if(dist_matrix[i][j] <= eps):\n",
    "                        counter += 1\n",
    "            border_list.append(counter)\n",
    "    return border_list\n",
    "        \n",
    "\n",
    "def proximity_list(matrix, eps):\n",
    "    prox_list = []\n",
    "    for row in matrix:\n",
    "        counter = 0\n",
    "        for col in row:\n",
    "            if(col <= eps):\n",
    "                counter += 1\n",
    "        prox_list.append(counter)\n",
    "    return prox_list\n",
    "\n",
    "\n",
    "\n",
    "eps = 2\n",
    "\n",
    "all_points = [P_1,P_2,P_3,P_4,P_5,P_6,P_7,P_8,P_9,P_10,P_11,P_12,P_13,P_14,P_15,P_16,P_17,P_18]\n",
    "dm2 = distance_matrix(all_points)\n",
    "#print(\"distance matrix:\")\n",
    "#print(np.matrix(dm2))\n",
    "#print()\n",
    "\n",
    "prox_list = proximity_list(dm2, eps)\n",
    "print(prox_list)\n",
    "print()\n",
    "\n",
    "# prox list produces [3, 2, 3, 2, 4, 3, 3, 2, 3, 1, 2, 1, 3, 2, 1, 1, 3, 1]\n",
    "\n",
    "# from looking at the proximity list we have P_1, P_3, P_5, P_6, P_7, P_9, P_13 and P_17 \n",
    "# that have 3 nodes within the proximity required by the given eps (eps=2)\n",
    "\n",
    "bord_list = identify_border_points(prox_list,dm2, eps)\n",
    "print(bord_list)\n",
    "print()\n",
    "\n",
    "# border list produces ['C', 0, 'C', 1, 'C', 'C', 'C', 0, 'C', 0, 1, 0, 'C', 1, 0, 0, 'C', 0]\n",
    "# this leaves P_4, P_11 & P_14 as border points\n",
    "\n",
    "# this means that P_2, P8, P_10, P_12, P_15, P_16 & P_18 are noice points\n",
    "\n",
    "noiceless_list = [P_1, P_3, P_4, P_5, P_6, P_7, P_9, P_11, P_13, P_14, P_17]\n",
    "\n",
    "\n",
    "dm3 = distance_matrix(noiceless_list)\n",
    "print(\"distance matrix for core points and border points:\")\n",
    "print(np.matrix(dm3))\n",
    "print()\n",
    "# first row (P_1) gives the connections P_1-P_4-P_9\n",
    "# second row (P_3) gives the connections P_3-P_5-P_7\n",
    "# third row (P_4) gives no new connections\n",
    "# fourth row (P_5) gives a new connection in P_5-P_11, transitively giving us the cluster P_3-P_5-P_7-P_11\n",
    "# fifth row (P_6) gives P_6-P_13-P_17\n",
    "# sixth row (P_7) gives no new connections\n",
    "# seventh row (P_9) gives a new connection in P_14, transitively giving us the cluster P_1-P_4-P_9-P_14\n",
    "# eight row (P_11) gives no new connections\n",
    "# ninth row (P_13) gives no new connections\n",
    "# tenth row (P_14) gives no new connections\n",
    "\n",
    "# we end up with the clusters {P_1-P_4-P_9-P_14}, {P_3-P_5-P_7-P_11}, {P_6-P_13-P_17}"
   ]
  },
  {
   "cell_type": "code",
   "execution_count": null,
   "metadata": {},
   "outputs": [],
   "source": []
  }
 ],
 "metadata": {
  "kernelspec": {
   "display_name": "Python 3",
   "language": "python",
   "name": "python3"
  },
  "language_info": {
   "codemirror_mode": {
    "name": "ipython",
    "version": 3
   },
   "file_extension": ".py",
   "mimetype": "text/x-python",
   "name": "python",
   "nbconvert_exporter": "python",
   "pygments_lexer": "ipython3",
   "version": "3.7.0"
  }
 },
 "nbformat": 4,
 "nbformat_minor": 1
}
